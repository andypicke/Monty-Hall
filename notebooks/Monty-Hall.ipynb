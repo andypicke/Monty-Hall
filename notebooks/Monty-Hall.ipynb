{
 "cells": [
  {
   "cell_type": "code",
   "execution_count": null,
   "metadata": {},
   "outputs": [],
   "source": [
    "# %load /Users/Andy/jupyter_templates/jupyter_imports.py\n",
    "import pandas as pd\n",
    "import numpy as np\n",
    "np.set_printoptions(suppress=True)\n",
    "import matplotlib.pyplot as plt\n",
    "%matplotlib inline\n",
    "\n",
    "# make plots look nice\n",
    "plt.rcParams['font.size'] = 14\n",
    "plt.rcParams['axes.labelsize'] = 'large'\n",
    "plt.rcParams['xtick.labelsize'] = 'large'\n",
    "plt.rcParams['ytick.labelsize'] = 'large'\n",
    "plt.rcParams['lines.linewidth'] = 3\n",
    "plt.style.use('ggplot')\n"
   ]
  },
  {
   "cell_type": "markdown",
   "metadata": {},
   "source": [
    "# The Monty Hall Problem\n",
    "Suppose you're on a game show, and you're given the choice of three doors: Behind one door is a car; behind the others, goats. You pick a door, say No. 1, and the host, who knows what's behind the doors, opens another door, say No. 3, which has a goat. He then says to you, \"Do you want to pick door No. 2?\" Is it to your advantage to switch your choice?"
   ]
  },
  {
   "cell_type": "code",
   "execution_count": 58,
   "metadata": {},
   "outputs": [
    {
     "name": "stdout",
     "output_type": "stream",
     "text": [
      "first_choice: 1\n",
      "winning door: 1\n",
      "Other two doors: [2 3]\n",
      "Monty opens door 3\n",
      "You win by staying\n"
     ]
    }
   ],
   "source": [
    "doors = np.array([1,2,3])\n",
    "\n",
    "# randomly pick a door\n",
    "first_choice = np.random.choice(doors)\n",
    "print('first_choice: ' + str(first_choice))\n",
    "\n",
    "# randomly assign the winning door\n",
    "winner = np.random.choice(doors)\n",
    "print('winning door: ' + str(winner))\n",
    "\n",
    "# host opens one of other doors which doesn't contain the prize\n",
    "other_two_doors = doors[doors!=first_choice]\n",
    "print('Other two doors: ' + str(other_two_doors))\n",
    "\n",
    "# \n",
    "if winner in other_two_doors:\n",
    "    opened_door = other_two_doors[other_two_doors!=winner]\n",
    "else:\n",
    "    opened_door = np.random.choice(other_two_doors)\n",
    "    \n",
    "print('Monty opens door ' + str(opened_door))\n",
    "\n",
    "if first_choice==winner:\n",
    "    print('You win by staying')\n",
    "else:\n",
    "    print('You win by switching')\n"
   ]
  },
  {
   "cell_type": "code",
   "execution_count": 59,
   "metadata": {},
   "outputs": [],
   "source": [
    "def play_monty(switch_doors):\n",
    "    '''\n",
    "    \n",
    "    '''\n",
    "    \n",
    "    doors = np.array([1,2,3])\n",
    "\n",
    "    # randomly pick a door\n",
    "    first_choice = np.random.choice(doors)\n",
    "\n",
    "    # randomly assign the winning door\n",
    "    winner = np.random.choice(doors)\n",
    "\n",
    "    # host opens one of other doors which doesn't contain the prize\n",
    "    other_two_doors = doors[doors!=first_choice]\n",
    "\n",
    "    if winner in other_two_doors:\n",
    "        opened_door = other_two_doors[other_two_doors!=winner]\n",
    "    else:\n",
    "        opened_door = np.random.choice(other_two_doors)\n",
    "\n",
    "    if switch_doors:\n",
    "        second_choice = other_two_doors[other_two_doors!=opened_door]\n",
    "    else:\n",
    "        second_choice = first_choice\n",
    "        \n",
    "    if second_choice==winner:\n",
    "        return 1\n",
    "    else: \n",
    "        return 0"
   ]
  },
  {
   "cell_type": "code",
   "execution_count": 60,
   "metadata": {},
   "outputs": [],
   "source": [
    "N_simulations = 1000\n",
    "result_no_switch = []\n",
    "for _ in range(N_simulations):\n",
    "    result_no_switch.append(play_monty(switch_doors=False))\n",
    "\n",
    "result_switch = []\n",
    "for _ in range(N_simulations):\n",
    "    result_switch.append(play_monty(switch_doors=True))\n"
   ]
  },
  {
   "cell_type": "code",
   "execution_count": 61,
   "metadata": {},
   "outputs": [
    {
     "name": "stdout",
     "output_type": "stream",
     "text": [
      "341\n",
      "668\n"
     ]
    }
   ],
   "source": [
    "print(np.sum(result_no_switch))\n",
    "print(np.sum(result_switch))"
   ]
  },
  {
   "cell_type": "code",
   "execution_count": 67,
   "metadata": {},
   "outputs": [
    {
     "name": "stderr",
     "output_type": "stream",
     "text": [
      "/Users/Andy/opt/anaconda3/lib/python3.7/site-packages/ipykernel_launcher.py:2: RuntimeWarning: invalid value encountered in true_divide\n",
      "  \n",
      "/Users/Andy/opt/anaconda3/lib/python3.7/site-packages/ipykernel_launcher.py:3: RuntimeWarning: divide by zero encountered in true_divide\n",
      "  This is separate from the ipykernel package so we can avoid doing imports until\n"
     ]
    },
    {
     "data": {
      "image/png": "[encoded data removed]",
      "text/plain": [
       "<Figure size 576x432 with 1 Axes>"
      ]
     },
     "metadata": {
      "needs_background": "light"
     },
     "output_type": "display_data"
    }
   ],
   "source": [
    "fig, ax = plt.subplots(1, figsize=(8,6))\n",
    "ax.plot(np.cumsum(result_no_switch) / np.array(list(range(N_simulations))), linewidth=3, label='No Switch')\n",
    "ax.plot(np.cumsum(result_switch) / np.array(list(range(N_simulations))), linewidth=3, label='Switch')\n",
    "ax.axhline(0.66, color='black')\n",
    "ax.axhline(0.33, color='black')\n",
    "ax.set_ylim(0,1)\n",
    "ax.legend()\n",
    "ax.set_xlabel('Number of Simulations')\n",
    "ax.set_ylabel('Probability of Winning')\n",
    "ax.set_title('Simulation of Monty Hall Problem')\n",
    "plt.show()"
   ]
  },
  {
   "cell_type": "code",
   "execution_count": null,
   "metadata": {},
   "outputs": [],
   "source": []
  }
 ],
 "metadata": {
  "kernelspec": {
   "display_name": "Python 3",
   "language": "python",
   "name": "python3"
  },
  "language_info": {
   "codemirror_mode": {
    "name": "ipython",
    "version": 3
   },
   "file_extension": ".py",
   "mimetype": "text/x-python",
   "name": "python",
   "nbconvert_exporter": "python",
   "pygments_lexer": "ipython3",
   "version": "3.7.6"
  }
 },
 "nbformat": 4,
 "nbformat_minor": 4
}
